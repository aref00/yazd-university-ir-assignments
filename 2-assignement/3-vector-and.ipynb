{
 "cells": [
  {
   "cell_type": "code",
   "execution_count": 1,
   "id": "1d99ef34",
   "metadata": {},
   "outputs": [],
   "source": [
    "import time\n",
    "from numpy import random"
   ]
  },
  {
   "cell_type": "code",
   "execution_count": 2,
   "id": "9711b5ac",
   "metadata": {},
   "outputs": [
    {
     "name": "stdout",
     "output_type": "stream",
     "text": [
      "TOTAL TIME:  0.0007753372192382812 seconds \n"
     ]
    }
   ],
   "source": [
    "v1 = random.choice([True, False], size=5000)\n",
    "v2 = random.choice([True, False], size=5000)\n",
    "v3 = random.choice([True, False], size=5000)\n",
    "\n",
    "\n",
    "start_time = time.time()\n",
    "result = list(map(lambda x, y, z: x and y and z, v1, v2, v3))\n",
    "print(\"TOTAL TIME:  %s seconds \" % (time.time() - start_time))\n"
   ]
  },
  {
   "cell_type": "code",
   "execution_count": 11,
   "id": "99c3aad6",
   "metadata": {},
   "outputs": [
    {
     "name": "stdout",
     "output_type": "stream",
     "text": [
      "False \tAND\t False \tAND\t True \t= False\n",
      "False \tAND\t True \tAND\t False \t= False\n",
      "False \tAND\t True \tAND\t True \t= False\n",
      "True \tAND\t True \tAND\t False \t= False\n",
      "False \tAND\t True \tAND\t False \t= False\n",
      "False \tAND\t True \tAND\t True \t= False\n",
      "True \tAND\t True \tAND\t False \t= False\n",
      "True \tAND\t False \tAND\t False \t= False\n",
      "True \tAND\t True \tAND\t False \t= False\n"
     ]
    }
   ],
   "source": [
    "show_case = map(lambda x, y, z, r: print(x, '\\tAND\\t', y, '\\tAND\\t', z, '\\t=', r ), v1[1:10], v2[1:10], v3[1:10], result[1:10])\n",
    "list(show_case);"
   ]
  }
 ],
 "metadata": {
  "kernelspec": {
   "display_name": "base",
   "language": "python",
   "name": "python3"
  },
  "language_info": {
   "codemirror_mode": {
    "name": "ipython",
    "version": 3
   },
   "file_extension": ".py",
   "mimetype": "text/x-python",
   "name": "python",
   "nbconvert_exporter": "python",
   "pygments_lexer": "ipython3",
   "version": "3.9.13"
  },
  "vscode": {
   "interpreter": {
    "hash": "3a7011daea1fac6fe65f5743174b507469f79c2c9ea5a35f108373235000ff37"
   }
  }
 },
 "nbformat": 4,
 "nbformat_minor": 5
}
